{
 "cells": [
  {
   "cell_type": "markdown",
   "metadata": {},
   "source": [
    " <h2><center>\n",
    "    Lab 1 - Statistical Analysis of a questionair using  R </center></h1>\n",
    "  <h2><center>\n",
    "    Chouliaras Andreas 2143 achouliaras@inf.uth.com <br>\n",
    "    Ονοματα και αεμ εδω + μαιλ\n",
    " </center></h1>"
   ]
  },
  {
   "cell_type": "code",
   "execution_count": 27,
   "metadata": {
    "ExecuteTime": {
     "end_time": "2019-10-09T16:04:15.553936Z",
     "start_time": "2019-10-09T16:04:15.527Z"
    },
    "scrolled": true
   },
   "outputs": [],
   "source": [
    "#install.packages(\"e1071\")\n",
    "#install.packages(\"ggplot2\")\n",
    "#install.packages(\"gdata\")\n",
    "#install.packages(\"plotrix\")\n",
    "#install.packages(\"xlsx\")\n",
    "library(xlsx)\n",
    "library(e1071)\n",
    "library(ggplot2)\n",
    "library(gdata)\n",
    "library(plotrix)"
   ]
  },
  {
   "cell_type": "markdown",
   "metadata": {},
   "source": [
    "## Read the xlsx file and create a Data Frame"
   ]
  },
  {
   "cell_type": "code",
   "execution_count": 29,
   "metadata": {
    "ExecuteTime": {
     "end_time": "2019-10-09T16:04:27.682763Z",
     "start_time": "2019-10-09T16:04:27.584Z"
    }
   },
   "outputs": [
    {
     "data": {
      "text/html": [
       "<table>\n",
       "<thead><tr><th scope=col>ΑΑ</th><th scope=col>Φύλο</th><th scope=col>Ηλικία</th><th scope=col>Ευχαρίστηση</th><th scope=col>Ημέρα</th></tr></thead>\n",
       "<tbody>\n",
       "\t<tr><td>1 </td><td>1 </td><td>23</td><td>1 </td><td>4 </td></tr>\n",
       "\t<tr><td>2 </td><td>2 </td><td>22</td><td>4 </td><td>2 </td></tr>\n",
       "\t<tr><td>3 </td><td>1 </td><td>20</td><td>4 </td><td>4 </td></tr>\n",
       "\t<tr><td>4 </td><td>2 </td><td>18</td><td>2 </td><td>1 </td></tr>\n",
       "\t<tr><td>5 </td><td>2 </td><td>20</td><td>3 </td><td>5 </td></tr>\n",
       "\t<tr><td>6 </td><td>1 </td><td>21</td><td>4 </td><td>3 </td></tr>\n",
       "</tbody>\n",
       "</table>\n"
      ],
      "text/latex": [
       "\\begin{tabular}{r|lllll}\n",
       " ΑΑ & Φύλο & Ηλικία & Ευχαρίστηση & Ημέρα\\\\\n",
       "\\hline\n",
       "\t 1  & 1  & 23 & 1  & 4 \\\\\n",
       "\t 2  & 2  & 22 & 4  & 2 \\\\\n",
       "\t 3  & 1  & 20 & 4  & 4 \\\\\n",
       "\t 4  & 2  & 18 & 2  & 1 \\\\\n",
       "\t 5  & 2  & 20 & 3  & 5 \\\\\n",
       "\t 6  & 1  & 21 & 4  & 3 \\\\\n",
       "\\end{tabular}\n"
      ],
      "text/markdown": [
       "\n",
       "ΑΑ | Φύλο | Ηλικία | Ευχαρίστηση | Ημέρα | \n",
       "|---|---|---|---|---|---|\n",
       "| 1  | 1  | 23 | 1  | 4  | \n",
       "| 2  | 2  | 22 | 4  | 2  | \n",
       "| 3  | 1  | 20 | 4  | 4  | \n",
       "| 4  | 2  | 18 | 2  | 1  | \n",
       "| 5  | 2  | 20 | 3  | 5  | \n",
       "| 6  | 1  | 21 | 4  | 3  | \n",
       "\n",
       "\n"
      ],
      "text/plain": [
       "  ΑΑ Φύλο Ηλικία Ευχαρίστηση Ημέρα\n",
       "1 1  1    23     1           4    \n",
       "2 2  2    22     4           2    \n",
       "3 3  1    20     4           4    \n",
       "4 4  2    18     2           1    \n",
       "5 5  2    20     3           5    \n",
       "6 6  1    21     4           3    "
      ]
     },
     "metadata": {},
     "output_type": "display_data"
    }
   ],
   "source": [
    "data_frame = read.xlsx2(\"QuestStudentRestaurant.xlsx\",1,header=TRUE)\n",
    "head(data_frame) \n",
    "#summary(data_frame)"
   ]
  },
  {
   "cell_type": "markdown",
   "metadata": {},
   "source": [
    "## Split the men and women records into two Data Frames"
   ]
  },
  {
   "cell_type": "code",
   "execution_count": 30,
   "metadata": {
    "ExecuteTime": {
     "end_time": "2019-10-09T16:04:29.547210Z",
     "start_time": "2019-10-09T16:04:29.504Z"
    }
   },
   "outputs": [
    {
     "data": {
      "text/html": [
       "<table>\n",
       "<thead><tr><th></th><th scope=col>ΑΑ</th><th scope=col>Φύλο</th><th scope=col>Ηλικία</th><th scope=col>Ευχαρίστηση</th><th scope=col>Ημέρα</th></tr></thead>\n",
       "<tbody>\n",
       "\t<tr><th scope=row>1</th><td>1 </td><td>1 </td><td>23</td><td>1 </td><td>4 </td></tr>\n",
       "\t<tr><th scope=row>3</th><td>3 </td><td>1 </td><td>20</td><td>4 </td><td>4 </td></tr>\n",
       "\t<tr><th scope=row>6</th><td>6 </td><td>1 </td><td>21</td><td>4 </td><td>3 </td></tr>\n",
       "\t<tr><th scope=row>7</th><td>7 </td><td>1 </td><td>22</td><td>3 </td><td>1 </td></tr>\n",
       "\t<tr><th scope=row>8</th><td>8 </td><td>1 </td><td>21</td><td>5 </td><td>5 </td></tr>\n",
       "\t<tr><th scope=row>9</th><td>9 </td><td>1 </td><td>21</td><td>5 </td><td>5 </td></tr>\n",
       "</tbody>\n",
       "</table>\n"
      ],
      "text/latex": [
       "\\begin{tabular}{r|lllll}\n",
       "  & ΑΑ & Φύλο & Ηλικία & Ευχαρίστηση & Ημέρα\\\\\n",
       "\\hline\n",
       "\t1 & 1  & 1  & 23 & 1  & 4 \\\\\n",
       "\t3 & 3  & 1  & 20 & 4  & 4 \\\\\n",
       "\t6 & 6  & 1  & 21 & 4  & 3 \\\\\n",
       "\t7 & 7  & 1  & 22 & 3  & 1 \\\\\n",
       "\t8 & 8  & 1  & 21 & 5  & 5 \\\\\n",
       "\t9 & 9  & 1  & 21 & 5  & 5 \\\\\n",
       "\\end{tabular}\n"
      ],
      "text/markdown": [
       "\n",
       "| <!--/--> | ΑΑ | Φύλο | Ηλικία | Ευχαρίστηση | Ημέρα | \n",
       "|---|---|---|---|---|---|\n",
       "| 1 | 1  | 1  | 23 | 1  | 4  | \n",
       "| 3 | 3  | 1  | 20 | 4  | 4  | \n",
       "| 6 | 6  | 1  | 21 | 4  | 3  | \n",
       "| 7 | 7  | 1  | 22 | 3  | 1  | \n",
       "| 8 | 8  | 1  | 21 | 5  | 5  | \n",
       "| 9 | 9  | 1  | 21 | 5  | 5  | \n",
       "\n",
       "\n"
      ],
      "text/plain": [
       "  ΑΑ Φύλο Ηλικία Ευχαρίστηση Ημέρα\n",
       "1 1  1    23     1           4    \n",
       "3 3  1    20     4           4    \n",
       "6 6  1    21     4           3    \n",
       "7 7  1    22     3           1    \n",
       "8 8  1    21     5           5    \n",
       "9 9  1    21     5           5    "
      ]
     },
     "metadata": {},
     "output_type": "display_data"
    },
    {
     "data": {
      "text/html": [
       "<table>\n",
       "<thead><tr><th></th><th scope=col>ΑΑ</th><th scope=col>Φύλο</th><th scope=col>Ηλικία</th><th scope=col>Ευχαρίστηση</th><th scope=col>Ημέρα</th></tr></thead>\n",
       "<tbody>\n",
       "\t<tr><th scope=row>2</th><td>2 </td><td>2 </td><td>22</td><td>4 </td><td>2 </td></tr>\n",
       "\t<tr><th scope=row>4</th><td>4 </td><td>2 </td><td>18</td><td>2 </td><td>1 </td></tr>\n",
       "\t<tr><th scope=row>5</th><td>5 </td><td>2 </td><td>20</td><td>3 </td><td>5 </td></tr>\n",
       "\t<tr><th scope=row>12</th><td>12</td><td>2 </td><td>18</td><td>1 </td><td>7 </td></tr>\n",
       "\t<tr><th scope=row>14</th><td>14</td><td>2 </td><td>20</td><td>4 </td><td>5 </td></tr>\n",
       "\t<tr><th scope=row>15</th><td>15</td><td>2 </td><td>20</td><td>5 </td><td>5 </td></tr>\n",
       "</tbody>\n",
       "</table>\n"
      ],
      "text/latex": [
       "\\begin{tabular}{r|lllll}\n",
       "  & ΑΑ & Φύλο & Ηλικία & Ευχαρίστηση & Ημέρα\\\\\n",
       "\\hline\n",
       "\t2 & 2  & 2  & 22 & 4  & 2 \\\\\n",
       "\t4 & 4  & 2  & 18 & 2  & 1 \\\\\n",
       "\t5 & 5  & 2  & 20 & 3  & 5 \\\\\n",
       "\t12 & 12 & 2  & 18 & 1  & 7 \\\\\n",
       "\t14 & 14 & 2  & 20 & 4  & 5 \\\\\n",
       "\t15 & 15 & 2  & 20 & 5  & 5 \\\\\n",
       "\\end{tabular}\n"
      ],
      "text/markdown": [
       "\n",
       "| <!--/--> | ΑΑ | Φύλο | Ηλικία | Ευχαρίστηση | Ημέρα | \n",
       "|---|---|---|---|---|---|\n",
       "| 2 | 2  | 2  | 22 | 4  | 2  | \n",
       "| 4 | 4  | 2  | 18 | 2  | 1  | \n",
       "| 5 | 5  | 2  | 20 | 3  | 5  | \n",
       "| 12 | 12 | 2  | 18 | 1  | 7  | \n",
       "| 14 | 14 | 2  | 20 | 4  | 5  | \n",
       "| 15 | 15 | 2  | 20 | 5  | 5  | \n",
       "\n",
       "\n"
      ],
      "text/plain": [
       "   ΑΑ Φύλο Ηλικία Ευχαρίστηση Ημέρα\n",
       "2  2  2    22     4           2    \n",
       "4  4  2    18     2           1    \n",
       "5  5  2    20     3           5    \n",
       "12 12 2    18     1           7    \n",
       "14 14 2    20     4           5    \n",
       "15 15 2    20     5           5    "
      ]
     },
     "metadata": {},
     "output_type": "display_data"
    }
   ],
   "source": [
    "men_frame = droplevels(subset(data_frame, Φύλο == 1))\n",
    "head(men_frame)\n",
    "#mean_men_age = mean(men_frame$Ηλικία)\n",
    "#print(paste0(\"Mean age of men is equal to: \", mean_men_age))\n",
    "\n",
    "women_frame = droplevels(subset(data_frame, Φύλο == 2))\n",
    "head(women_frame)\n",
    "#mean_women_age = mean(women_frame[,3])\n",
    "#print(paste0(\"Mean age of women is equal to: \", mean_women_age))\n",
    "\n"
   ]
  },
  {
   "cell_type": "markdown",
   "metadata": {},
   "source": [
    "## 1. Number of men and women. Relative frequencies of the two categories in a Pie chart."
   ]
  },
  {
   "cell_type": "code",
   "execution_count": 35,
   "metadata": {
    "ExecuteTime": {
     "end_time": "2019-10-09T16:05:46.649585Z",
     "start_time": "2019-10-09T16:05:46.590Z"
    }
   },
   "outputs": [
    {
     "name": "stdout",
     "output_type": "stream",
     "text": [
      "[1] \"The number of men is equal to: 564\"\n",
      "[1] \"The number of women is equal to: 874\"\n"
     ]
    },
    {
     "data": {
      "image/png": "[encoded data removed]",
      "text/plain": [
       "Plot with title \"Relative frequencies of men vs women\""
      ]
     },
     "metadata": {},
     "output_type": "display_data"
    }
   ],
   "source": [
    "number_of_men = nrow(na.omit(men_frame))\n",
    "number_of_women = nrow(na.omit(women_frame))\n",
    "\n",
    "print(paste0(\"The number of men is equal to: \", number_of_men))\n",
    "print(paste0(\"The number of women is equal to: \", number_of_women))\n",
    "\n",
    "#plot\n",
    "options(repr.plot.width=5, repr.plot.height=5)\n",
    "slices <- c(number_of_men, number_of_women)\n",
    "lbls <- c(\"Men\", \"Women\")\n",
    "pct <- round(slices/sum(slices),3)\n",
    "lbls <- paste(lbls, pct) # add percents to labels\n",
    "pie3D(slices,labels = lbls,main=\"Relative frequencies of men vs women\")"
   ]
  },
  {
   "cell_type": "markdown",
   "metadata": {
    "ExecuteTime": {
     "end_time": "2019-10-05T12:37:02.439462Z",
     "start_time": "2019-10-05T12:37:02.428Z"
    }
   },
   "source": [
    "## 2. Relative and cumulative frequencies of questionnaires per day"
   ]
  },
  {
   "cell_type": "code",
   "execution_count": 36,
   "metadata": {
    "ExecuteTime": {
     "end_time": "2019-10-09T16:06:00.915952Z",
     "start_time": "2019-10-09T16:06:00.807Z"
    }
   },
   "outputs": [
    {
     "name": "stdout",
     "output_type": "stream",
     "text": [
      "[1] \"Relative frequencies of questionnaires per day: \"\n",
      "\n",
      "        1         2         3         4         5         6         7 \n",
      "0.1300417 0.1717663 0.1091794 0.1738526 0.1105702 0.1439499 0.1606398 \n",
      "[1] \"Cumulative frequencies of questionnaires per day: \"\n",
      "   1    2    3    4    5    6    7 \n",
      " 187  434  591  841 1000 1207 1438 \n"
     ]
    },
    {
     "data": {
      "image/png": "[encoded data removed]",
      "text/plain": [
       "Plot with title \"Cumulative frequencies of questionaires per day\""
      ]
     },
     "metadata": {},
     "output_type": "display_data"
    }
   ],
   "source": [
    "q_per_day = table(data_frame$Ημέρα)\n",
    "\n",
    "options(repr.plot.width=10, repr.plot.height=10)\n",
    "par(mfrow=c(2,1))\n",
    "print(\"Relative frequencies of questionnaires per day: \")\n",
    "print(q_per_day/nrow(data_frame))\n",
    "barplot(q_per_day/nrow(data_frame), xlab = \"Day\", ylab = \"Number Of Questionnaires\",main=\"Relative frequencies of questionaires per day\")\n",
    "\n",
    "print(\"Cumulative frequencies of questionnaires per day: \")\n",
    "print(cumsum(q_per_day))\n",
    "barplot(cumsum(q_per_day), xlab = \"Day\", ylab = \"Number Of Questionnaires\",main=\"Cumulative frequencies of questionaires per day\")\n",
    "par(mfrow=c(1,1))"
   ]
  },
  {
   "cell_type": "markdown",
   "metadata": {},
   "source": [
    "## 3. Mean degree of satisfaction per gender"
   ]
  },
  {
   "cell_type": "code",
   "execution_count": 40,
   "metadata": {
    "ExecuteTime": {
     "end_time": "2019-10-09T16:07:04.135282Z",
     "start_time": "2019-10-09T16:07:04.108Z"
    }
   },
   "outputs": [
    {
     "name": "stdout",
     "output_type": "stream",
     "text": [
      "[1] \"Mean degree of satisfaction of men is equal to: 3.06914893617021\"\n",
      "[1] \"Mean degree of satisfaction of women is equal to: 3.03432494279176\"\n"
     ]
    }
   ],
   "source": [
    "mean_men_satisfaction_degree = mean(as.numeric(men_frame$Ευχαρίστηση))\n",
    "print(paste0(\"Mean degree of satisfaction of men is equal to: \", mean_men_satisfaction_degree))\n",
    "\n",
    "mean_women_satisfaction_degree = mean(as.numeric(women_frame$Ευχαρίστηση))\n",
    "print(paste0(\"Mean degree of satisfaction of women is equal to: \", mean_women_satisfaction_degree))"
   ]
  },
  {
   "cell_type": "markdown",
   "metadata": {},
   "source": [
    "## 4. Mean degree of satisfaction per gender and age"
   ]
  },
  {
   "cell_type": "code",
   "execution_count": 41,
   "metadata": {
    "ExecuteTime": {
     "end_time": "2019-10-09T16:07:33.591439Z",
     "start_time": "2019-10-09T16:07:33.531Z"
    }
   },
   "outputs": [
    {
     "name": "stdout",
     "output_type": "stream",
     "text": [
      "[1] \"Mean degree of satisfaction per gender and age.\"\n"
     ]
    },
    {
     "data": {
      "text/html": [
       "<table>\n",
       "<tbody>\n",
       "\t<tr><th scope=row>Age</th><td>18      </td><td>19      </td><td>20      </td><td>21      </td><td>22      </td><td>23      </td><td>24      </td><td>25      </td><td>26      </td><td>27      </td></tr>\n",
       "\t<tr><th scope=row>Men</th><td>3.291667</td><td>3.156863</td><td>2.964539</td><td>2.966667</td><td>2.945205</td><td>3.297297</td><td>2.428571</td><td>3.000000</td><td>2.000000</td><td>1.500000</td></tr>\n",
       "\t<tr><th scope=row>Women</th><td>3.082707</td><td>3.100917</td><td>2.969072</td><td>3.045455</td><td>3.055118</td><td>3.091837</td><td>1.666667</td><td>2.000000</td><td>2.000000</td><td>5.000000</td></tr>\n",
       "</tbody>\n",
       "</table>\n"
      ],
      "text/latex": [
       "\\begin{tabular}{r|llllllllll}\n",
       "\tAge & 18       & 19       & 20       & 21       & 22       & 23       & 24       & 25       & 26       & 27      \\\\\n",
       "\tMen & 3.291667 & 3.156863 & 2.964539 & 2.966667 & 2.945205 & 3.297297 & 2.428571 & 3.000000 & 2.000000 & 1.500000\\\\\n",
       "\tWomen & 3.082707 & 3.100917 & 2.969072 & 3.045455 & 3.055118 & 3.091837 & 1.666667 & 2.000000 & 2.000000 & 5.000000\\\\\n",
       "\\end{tabular}\n"
      ],
      "text/markdown": [
       "\n",
       "| Age | 18       | 19       | 20       | 21       | 22       | 23       | 24       | 25       | 26       | 27       | \n",
       "| Men | 3.291667 | 3.156863 | 2.964539 | 2.966667 | 2.945205 | 3.297297 | 2.428571 | 3.000000 | 2.000000 | 1.500000 | \n",
       "| Women | 3.082707 | 3.100917 | 2.969072 | 3.045455 | 3.055118 | 3.091837 | 1.666667 | 2.000000 | 2.000000 | 5.000000 | \n",
       "\n",
       "\n"
      ],
      "text/plain": [
       "      [,1]     [,2]     [,3]     [,4]     [,5]     [,6]     [,7]     [,8]    \n",
       "Age   18       19       20       21       22       23       24       25      \n",
       "Men   3.291667 3.156863 2.964539 2.966667 2.945205 3.297297 2.428571 3.000000\n",
       "Women 3.082707 3.100917 2.969072 3.045455 3.055118 3.091837 1.666667 2.000000\n",
       "      [,9]     [,10]   \n",
       "Age   26       27      \n",
       "Men   2.000000 1.500000\n",
       "Women 2.000000 5.000000"
      ]
     },
     "metadata": {},
     "output_type": "display_data"
    }
   ],
   "source": [
    "print(\"Mean degree of satisfaction per gender and age.\")\n",
    "agg1 = aggregate(as.numeric(men_frame[,4]),list(men_frame$Ηλικία),mean)\n",
    "agg2 = aggregate(as.numeric(women_frame[,4]),list(women_frame$Ηλικία),mean)\n",
    "\n",
    "df = cbind(agg1,agg2$x)\n",
    "colnames(df) = c(\"Age\",\"Men\",\"Women\")\n",
    "df$Age = as.factor(df$Age)\n",
    "transpose = t(df)\n",
    "head(transpose)\n"
   ]
  },
  {
   "cell_type": "markdown",
   "metadata": {},
   "source": [
    "## 5. Mean degree of satisfaction per age and day"
   ]
  },
  {
   "cell_type": "code",
   "execution_count": 43,
   "metadata": {
    "ExecuteTime": {
     "end_time": "2019-10-09T16:07:41.474673Z",
     "start_time": "2019-10-09T16:07:41.455Z"
    }
   },
   "outputs": [],
   "source": [
    "#install.packages(\"viridis\")\n",
    "library(viridis)"
   ]
  },
  {
   "cell_type": "code",
   "execution_count": 44,
   "metadata": {
    "ExecuteTime": {
     "end_time": "2019-10-09T16:07:42.745708Z",
     "start_time": "2019-10-09T16:07:42.410Z"
    }
   },
   "outputs": [
    {
     "data": {
      "text/html": [
       "<table>\n",
       "<thead><tr><th scope=col>Day</th><th scope=col>Age</th><th scope=col>Mean_Satisfaction</th></tr></thead>\n",
       "<tbody>\n",
       "\t<tr><td>1       </td><td>18      </td><td>2.758621</td></tr>\n",
       "\t<tr><td>2       </td><td>18      </td><td>3.314286</td></tr>\n",
       "\t<tr><td>3       </td><td>18      </td><td>3.040000</td></tr>\n",
       "\t<tr><td>4       </td><td>18      </td><td>3.279070</td></tr>\n",
       "\t<tr><td>5       </td><td>18      </td><td>3.285714</td></tr>\n",
       "\t<tr><td>6       </td><td>18      </td><td>3.400000</td></tr>\n",
       "</tbody>\n",
       "</table>\n"
      ],
      "text/latex": [
       "\\begin{tabular}{r|lll}\n",
       " Day & Age & Mean\\_Satisfaction\\\\\n",
       "\\hline\n",
       "\t 1        & 18       & 2.758621\\\\\n",
       "\t 2        & 18       & 3.314286\\\\\n",
       "\t 3        & 18       & 3.040000\\\\\n",
       "\t 4        & 18       & 3.279070\\\\\n",
       "\t 5        & 18       & 3.285714\\\\\n",
       "\t 6        & 18       & 3.400000\\\\\n",
       "\\end{tabular}\n"
      ],
      "text/markdown": [
       "\n",
       "Day | Age | Mean_Satisfaction | \n",
       "|---|---|---|---|---|---|\n",
       "| 1        | 18       | 2.758621 | \n",
       "| 2        | 18       | 3.314286 | \n",
       "| 3        | 18       | 3.040000 | \n",
       "| 4        | 18       | 3.279070 | \n",
       "| 5        | 18       | 3.285714 | \n",
       "| 6        | 18       | 3.400000 | \n",
       "\n",
       "\n"
      ],
      "text/plain": [
       "  Day Age Mean_Satisfaction\n",
       "1 1   18  2.758621         \n",
       "2 2   18  3.314286         \n",
       "3 3   18  3.040000         \n",
       "4 4   18  3.279070         \n",
       "5 5   18  3.285714         \n",
       "6 6   18  3.400000         "
      ]
     },
     "metadata": {},
     "output_type": "display_data"
    },
    {
     "data": {},
     "metadata": {},
     "output_type": "display_data"
    },
    {
     "data": {
      "image/png": "[encoded data removed]",
      "text/plain": [
       "plot without title"
      ]
     },
     "metadata": {},
     "output_type": "display_data"
    }
   ],
   "source": [
    "d5 = aggregate(as.numeric(data_frame$Ευχαρίστηση), list(data_frame$Ημέρα, data_frame$Ηλικία), mean)\n",
    "colnames(d5) = c(\"Day\",\"Age\",\"Mean_Satisfaction\")\n",
    "\n",
    "#  Nomizw to eftiaksa\n",
    "head(d5)\n",
    "\n",
    "options(repr.plot.width=5, repr.plot.height=4)\n",
    "ggplot(d5, aes(Day,Age,fill= Mean_Satisfaction))+\n",
    "scale_fill_viridis(discrete=FALSE) +\n",
    "geom_tile()\n"
   ]
  },
  {
   "cell_type": "code",
   "execution_count": 45,
   "metadata": {
    "ExecuteTime": {
     "end_time": "2019-10-09T16:07:49.254558Z",
     "start_time": "2019-10-09T16:07:49.043Z"
    }
   },
   "outputs": [
    {
     "data": {},
     "metadata": {},
     "output_type": "display_data"
    },
    {
     "data": {
      "image/png": "[encoded data removed]",
      "text/plain": [
       "plot without title"
      ]
     },
     "metadata": {},
     "output_type": "display_data"
    }
   ],
   "source": [
    "#install.packages(\"latticeExtra\")\n",
    "library(latticeExtra)\n",
    "\n",
    "options(repr.plot.width=10, repr.plot.height=10)\n",
    "cloud( Mean_Satisfaction ~ Day+Age, d5, panel.3d.cloud=panel.3dbars, col.facet='#5e5c57', \n",
    "      xbase=0.2, ybase=0.2, scales=list(arrows=FALSE, col=1), \n",
    "      par.settings = list(axis.line = list(col = \"transparent\")))\n"
   ]
  },
  {
   "cell_type": "markdown",
   "metadata": {},
   "source": [
    "## 6. Mean degree of satisfaction per age and gender"
   ]
  },
  {
   "cell_type": "code",
   "execution_count": 46,
   "metadata": {
    "ExecuteTime": {
     "end_time": "2019-10-09T16:07:55.068165Z",
     "start_time": "2019-10-09T16:07:55.030Z"
    },
    "scrolled": true
   },
   "outputs": [
    {
     "name": "stdout",
     "output_type": "stream",
     "text": [
      "[1] \"Mean degree of satisfaction per age and gender.\"\n"
     ]
    },
    {
     "data": {
      "text/html": [
       "<table>\n",
       "<thead><tr><th scope=col>Age</th><th scope=col>Men</th><th scope=col>Women</th></tr></thead>\n",
       "<tbody>\n",
       "\t<tr><td>18      </td><td>3.291667</td><td>3.082707</td></tr>\n",
       "\t<tr><td>19      </td><td>3.156863</td><td>3.100917</td></tr>\n",
       "\t<tr><td>20      </td><td>2.964539</td><td>2.969072</td></tr>\n",
       "\t<tr><td>21      </td><td>2.966667</td><td>3.045455</td></tr>\n",
       "\t<tr><td>22      </td><td>2.945205</td><td>3.055118</td></tr>\n",
       "\t<tr><td>23      </td><td>3.297297</td><td>3.091837</td></tr>\n",
       "</tbody>\n",
       "</table>\n"
      ],
      "text/latex": [
       "\\begin{tabular}{r|lll}\n",
       " Age & Men & Women\\\\\n",
       "\\hline\n",
       "\t 18       & 3.291667 & 3.082707\\\\\n",
       "\t 19       & 3.156863 & 3.100917\\\\\n",
       "\t 20       & 2.964539 & 2.969072\\\\\n",
       "\t 21       & 2.966667 & 3.045455\\\\\n",
       "\t 22       & 2.945205 & 3.055118\\\\\n",
       "\t 23       & 3.297297 & 3.091837\\\\\n",
       "\\end{tabular}\n"
      ],
      "text/markdown": [
       "\n",
       "Age | Men | Women | \n",
       "|---|---|---|---|---|---|\n",
       "| 18       | 3.291667 | 3.082707 | \n",
       "| 19       | 3.156863 | 3.100917 | \n",
       "| 20       | 2.964539 | 2.969072 | \n",
       "| 21       | 2.966667 | 3.045455 | \n",
       "| 22       | 2.945205 | 3.055118 | \n",
       "| 23       | 3.297297 | 3.091837 | \n",
       "\n",
       "\n"
      ],
      "text/plain": [
       "  Age Men      Women   \n",
       "1 18  3.291667 3.082707\n",
       "2 19  3.156863 3.100917\n",
       "3 20  2.964539 2.969072\n",
       "4 21  2.966667 3.045455\n",
       "5 22  2.945205 3.055118\n",
       "6 23  3.297297 3.091837"
      ]
     },
     "metadata": {},
     "output_type": "display_data"
    }
   ],
   "source": [
    "print(\"Mean degree of satisfaction per age and gender.\")\n",
    "agg1 = aggregate(as.numeric(men_frame[,4]),list(men_frame$Ηλικία),mean)\n",
    "agg2 = aggregate(as.numeric(women_frame[,4]),list(women_frame$Ηλικία),mean)\n",
    "df = cbind(agg1,agg2$x)\n",
    "colnames(df) = c(\"Age\",\"Men\",\"Women\")\n",
    "head(df)"
   ]
  },
  {
   "cell_type": "markdown",
   "metadata": {},
   "source": [
    "## 7. Number of men with degree of satisfaction equal to 4 or 5 on Monday or Friday"
   ]
  },
  {
   "cell_type": "code",
   "execution_count": 47,
   "metadata": {
    "ExecuteTime": {
     "end_time": "2019-10-09T16:07:58.539185Z",
     "start_time": "2019-10-09T16:07:58.500Z"
    }
   },
   "outputs": [
    {
     "name": "stdout",
     "output_type": "stream",
     "text": [
      "[1] \"The number of men with satisfaction degree equal to 4 or 5 on days Monday and Friday is: 59\"\n"
     ]
    }
   ],
   "source": [
    "res = droplevels(subset(men_frame,  (Ευχαρίστηση == 4 | Ευχαρίστηση == 5) & (Ημέρα == 1 | Ημέρα == 5)))\n",
    "num = nrow(res)\n",
    "print(paste0(\"The number of men with satisfaction degree equal to 4 or 5 on days Monday and Friday is: \", num))"
   ]
  },
  {
   "cell_type": "markdown",
   "metadata": {},
   "source": [
    "## 8. Percentage of women with degree of satisfaction equal to 1 or 2 or 3 on Saturday or Sunday"
   ]
  },
  {
   "cell_type": "code",
   "execution_count": 48,
   "metadata": {
    "ExecuteTime": {
     "end_time": "2019-10-09T16:08:01.080624Z",
     "start_time": "2019-10-09T16:08:01.054Z"
    }
   },
   "outputs": [
    {
     "name": "stdout",
     "output_type": "stream",
     "text": [
      "[1] \"The percentage of women with satisfaction degree from 1 to 3 on days Saturday or Sunday is: 19.68 %\"\n"
     ]
    }
   ],
   "source": [
    "res = droplevels(subset(women_frame,  (Ευχαρίστηση == 1 | Ευχαρίστηση == 2  | Ευχαρίστηση == 3) & (Ημέρα ==6  | Ημέρα == 7)))\n",
    "num = round(nrow(res)/nrow(women_frame)*100,2)\n",
    "print(paste0(\"The percentage of women with satisfaction degree from 1 to 3 on days Saturday or Sunday is: \", num,\" %\"))"
   ]
  },
  {
   "cell_type": "markdown",
   "metadata": {},
   "source": [
    "## 9. Relative and accumulated frequencies of satisfaction per day\n",
    "\n",
    "### Relative frequencies of satisfaction per day"
   ]
  },
  {
   "cell_type": "code",
   "execution_count": 49,
   "metadata": {
    "ExecuteTime": {
     "end_time": "2019-10-09T16:08:04.271897Z",
     "start_time": "2019-10-09T16:08:04.116Z"
    }
   },
   "outputs": [
    {
     "name": "stdout",
     "output_type": "stream",
     "text": [
      "[1] \"The relative frequencies of satisfaction per day:\"\n"
     ]
    },
    {
     "data": {
      "text/html": [
       "<table>\n",
       "<thead><tr><th scope=col>Days</th><th scope=col>1</th><th scope=col>2</th><th scope=col>3</th><th scope=col>4</th><th scope=col>5</th></tr></thead>\n",
       "<tbody>\n",
       "\t<tr><td>1        </td><td>0.1604278</td><td>0.1711230</td><td>0.2299465</td><td>0.2245989</td><td>0.2139037</td></tr>\n",
       "\t<tr><td>2        </td><td>0.1943320</td><td>0.1538462</td><td>0.2388664</td><td>0.2348178</td><td>0.1781377</td></tr>\n",
       "\t<tr><td>3        </td><td>0.1528662</td><td>0.1592357</td><td>0.2802548</td><td>0.2292994</td><td>0.1783439</td></tr>\n",
       "\t<tr><td>4        </td><td>0.1640000</td><td>0.1960000</td><td>0.2800000</td><td>0.2120000</td><td>0.1480000</td></tr>\n",
       "\t<tr><td>5        </td><td>0.1383648</td><td>0.1949686</td><td>0.2767296</td><td>0.2075472</td><td>0.1823899</td></tr>\n",
       "\t<tr><td>6        </td><td>0.2077295</td><td>0.1545894</td><td>0.2318841</td><td>0.2318841</td><td>0.1739130</td></tr>\n",
       "\t<tr><td>7        </td><td>0.1948052</td><td>0.1991342</td><td>0.2121212</td><td>0.2251082</td><td>0.1688312</td></tr>\n",
       "</tbody>\n",
       "</table>\n"
      ],
      "text/latex": [
       "\\begin{tabular}{r|llllll}\n",
       " Days & 1 & 2 & 3 & 4 & 5\\\\\n",
       "\\hline\n",
       "\t 1         & 0.1604278 & 0.1711230 & 0.2299465 & 0.2245989 & 0.2139037\\\\\n",
       "\t 2         & 0.1943320 & 0.1538462 & 0.2388664 & 0.2348178 & 0.1781377\\\\\n",
       "\t 3         & 0.1528662 & 0.1592357 & 0.2802548 & 0.2292994 & 0.1783439\\\\\n",
       "\t 4         & 0.1640000 & 0.1960000 & 0.2800000 & 0.2120000 & 0.1480000\\\\\n",
       "\t 5         & 0.1383648 & 0.1949686 & 0.2767296 & 0.2075472 & 0.1823899\\\\\n",
       "\t 6         & 0.2077295 & 0.1545894 & 0.2318841 & 0.2318841 & 0.1739130\\\\\n",
       "\t 7         & 0.1948052 & 0.1991342 & 0.2121212 & 0.2251082 & 0.1688312\\\\\n",
       "\\end{tabular}\n"
      ],
      "text/markdown": [
       "\n",
       "Days | 1 | 2 | 3 | 4 | 5 | \n",
       "|---|---|---|---|---|---|---|\n",
       "| 1         | 0.1604278 | 0.1711230 | 0.2299465 | 0.2245989 | 0.2139037 | \n",
       "| 2         | 0.1943320 | 0.1538462 | 0.2388664 | 0.2348178 | 0.1781377 | \n",
       "| 3         | 0.1528662 | 0.1592357 | 0.2802548 | 0.2292994 | 0.1783439 | \n",
       "| 4         | 0.1640000 | 0.1960000 | 0.2800000 | 0.2120000 | 0.1480000 | \n",
       "| 5         | 0.1383648 | 0.1949686 | 0.2767296 | 0.2075472 | 0.1823899 | \n",
       "| 6         | 0.2077295 | 0.1545894 | 0.2318841 | 0.2318841 | 0.1739130 | \n",
       "| 7         | 0.1948052 | 0.1991342 | 0.2121212 | 0.2251082 | 0.1688312 | \n",
       "\n",
       "\n"
      ],
      "text/plain": [
       "  Days 1         2         3         4         5        \n",
       "1 1    0.1604278 0.1711230 0.2299465 0.2245989 0.2139037\n",
       "2 2    0.1943320 0.1538462 0.2388664 0.2348178 0.1781377\n",
       "3 3    0.1528662 0.1592357 0.2802548 0.2292994 0.1783439\n",
       "4 4    0.1640000 0.1960000 0.2800000 0.2120000 0.1480000\n",
       "5 5    0.1383648 0.1949686 0.2767296 0.2075472 0.1823899\n",
       "6 6    0.2077295 0.1545894 0.2318841 0.2318841 0.1739130\n",
       "7 7    0.1948052 0.1991342 0.2121212 0.2251082 0.1688312"
      ]
     },
     "metadata": {},
     "output_type": "display_data"
    },
    {
     "data": {
      "image/png": "[encoded data removed]",
      "text/plain": [
       "Plot with title \"Sunday\""
      ]
     },
     "metadata": {},
     "output_type": "display_data"
    }
   ],
   "source": [
    "q_per_day = table(data_frame$Ημέρα,data_frame$Ευχαρίστηση)\n",
    "r = c()\n",
    "for (i in c(1:7)){\n",
    "    r = rbind(r,q_per_day[i,]/sum(q_per_day[i,]))\n",
    "}\n",
    "r = as.data.frame(r)\n",
    "freqs = cbind(c(1:7), r)\n",
    "colnames(freqs)[1] = \"Days\"\n",
    "print(\"The relative frequencies of satisfaction per day:\")\n",
    "freqs\n",
    "\n",
    "names = c(\"Monday\",\"Tuesday\",\"Wednesday\",\"Thursday\",\"Friday\",\"Saturday\",\"Sunday\")\n",
    "par(mfrow=c(3,3))\n",
    "\n",
    "options(repr.plot.width=10, repr.plot.height=10)\n",
    "for (i in c(1,2,3,4,5,6,7)){\n",
    "    x1 = 1:5\n",
    "    y1 = as.numeric(freqs[i,2:6])\n",
    "    plot(x1, y1, type = \"l\", lwd = 3,xlab = \"Satisfaction Level\",ylab = \"Relative Frequency\",main=names[i])     \n",
    "    polygon(c(1, x1, 5), c(0, y1, 0), col = \"#5c5b59\")  \n",
    "    points(x1, y1, cex = 2,pch = 15)   \n",
    "    segments(x1, 0, x1, y1)   \n",
    "}\n",
    "par(mfrow=c(1,1))"
   ]
  },
  {
   "cell_type": "markdown",
   "metadata": {},
   "source": [
    "### Cumulative frequencies of satisfaction per day"
   ]
  },
  {
   "cell_type": "code",
   "execution_count": 50,
   "metadata": {
    "ExecuteTime": {
     "end_time": "2019-10-09T16:08:09.157383Z",
     "start_time": "2019-10-09T16:08:09.007Z"
    }
   },
   "outputs": [
    {
     "name": "stdout",
     "output_type": "stream",
     "text": [
      "[1] \"The cumulative frequencies of satisfaction per day:\"\n"
     ]
    },
    {
     "data": {
      "text/html": [
       "<table>\n",
       "<thead><tr><th scope=col>Days</th><th scope=col>1</th><th scope=col>2</th><th scope=col>3</th><th scope=col>4</th><th scope=col>5</th></tr></thead>\n",
       "<tbody>\n",
       "\t<tr><td>1  </td><td>30 </td><td>62 </td><td>105</td><td>147</td><td>187</td></tr>\n",
       "\t<tr><td>2  </td><td>48 </td><td>86 </td><td>145</td><td>203</td><td>247</td></tr>\n",
       "\t<tr><td>3  </td><td>24 </td><td>49 </td><td> 93</td><td>129</td><td>157</td></tr>\n",
       "\t<tr><td>4  </td><td>41 </td><td>90 </td><td>160</td><td>213</td><td>250</td></tr>\n",
       "\t<tr><td>5  </td><td>22 </td><td>53 </td><td> 97</td><td>130</td><td>159</td></tr>\n",
       "\t<tr><td>6  </td><td>43 </td><td>75 </td><td>123</td><td>171</td><td>207</td></tr>\n",
       "\t<tr><td>7  </td><td>45 </td><td>91 </td><td>140</td><td>192</td><td>231</td></tr>\n",
       "</tbody>\n",
       "</table>\n"
      ],
      "text/latex": [
       "\\begin{tabular}{r|llllll}\n",
       " Days & 1 & 2 & 3 & 4 & 5\\\\\n",
       "\\hline\n",
       "\t 1   & 30  & 62  & 105 & 147 & 187\\\\\n",
       "\t 2   & 48  & 86  & 145 & 203 & 247\\\\\n",
       "\t 3   & 24  & 49  &  93 & 129 & 157\\\\\n",
       "\t 4   & 41  & 90  & 160 & 213 & 250\\\\\n",
       "\t 5   & 22  & 53  &  97 & 130 & 159\\\\\n",
       "\t 6   & 43  & 75  & 123 & 171 & 207\\\\\n",
       "\t 7   & 45  & 91  & 140 & 192 & 231\\\\\n",
       "\\end{tabular}\n"
      ],
      "text/markdown": [
       "\n",
       "Days | 1 | 2 | 3 | 4 | 5 | \n",
       "|---|---|---|---|---|---|---|\n",
       "| 1   | 30  | 62  | 105 | 147 | 187 | \n",
       "| 2   | 48  | 86  | 145 | 203 | 247 | \n",
       "| 3   | 24  | 49  |  93 | 129 | 157 | \n",
       "| 4   | 41  | 90  | 160 | 213 | 250 | \n",
       "| 5   | 22  | 53  |  97 | 130 | 159 | \n",
       "| 6   | 43  | 75  | 123 | 171 | 207 | \n",
       "| 7   | 45  | 91  | 140 | 192 | 231 | \n",
       "\n",
       "\n"
      ],
      "text/plain": [
       "  Days 1  2  3   4   5  \n",
       "1 1    30 62 105 147 187\n",
       "2 2    48 86 145 203 247\n",
       "3 3    24 49  93 129 157\n",
       "4 4    41 90 160 213 250\n",
       "5 5    22 53  97 130 159\n",
       "6 6    43 75 123 171 207\n",
       "7 7    45 91 140 192 231"
      ]
     },
     "metadata": {},
     "output_type": "display_data"
    },
    {
     "data": {
      "image/png": "[encoded data removed]",
      "text/plain": [
       "Plot with title \"Sunday\""
      ]
     },
     "metadata": {},
     "output_type": "display_data"
    }
   ],
   "source": [
    "cu = c()\n",
    "for (i in c(1:7)){\n",
    "    cu = rbind(cu,cumsum(q_per_day[i,]))\n",
    "}\n",
    "cu = as.data.frame(cu)\n",
    "cfreqs = cbind(c(1:7), cu)\n",
    "colnames(cfreqs)[1] = \"Days\"\n",
    "print(\"The cumulative frequencies of satisfaction per day:\")\n",
    "cfreqs\n",
    "\n",
    "names = c(\"Monday\",\"Tuesday\",\"Wednesday\",\"Thursday\",\"Friday\",\"Saturday\",\"Sunday\")\n",
    "par(mfrow=c(3,3))\n",
    "\n",
    "options(repr.plot.width=10, repr.plot.height=10)\n",
    "for (i in c(1,2,3,4,5,6,7)){\n",
    "    x1 = 1:5\n",
    "    y1 = as.numeric(cfreqs[i,2:6])\n",
    "    plot(x1, y1, type = \"l\", lwd = 0.5,xlab = \"Satisfaction Level\",ylab = \"Cumulative Frequency\",main=names[i])     \n",
    "    points(x1, y1,cex = 1,pch = 1) \n",
    "}\n",
    "par(mfrow=c(1,1))\n",
    "    "
   ]
  },
  {
   "cell_type": "markdown",
   "metadata": {},
   "source": [
    "## 10. Mean degree of womens's satisfaction on Thursdays "
   ]
  },
  {
   "cell_type": "code",
   "execution_count": 51,
   "metadata": {
    "ExecuteTime": {
     "end_time": "2019-10-09T16:08:19.588885Z",
     "start_time": "2019-10-09T16:08:19.564Z"
    }
   },
   "outputs": [
    {
     "name": "stdout",
     "output_type": "stream",
     "text": [
      "[1] 3.051613\n"
     ]
    }
   ],
   "source": [
    "women_thursday = droplevels(subset(women_frame, Ημέρα == 4))\n",
    "women_thursday_mean = mean(as.numeric(women_thursday$Ευχαρίστηση))\n",
    "print(women_thursday_mean)"
   ]
  },
  {
   "cell_type": "markdown",
   "metadata": {},
   "source": [
    "## 11. Relative Frequencies of Satisfaction on Sundays"
   ]
  },
  {
   "cell_type": "code",
   "execution_count": 61,
   "metadata": {
    "ExecuteTime": {
     "end_time": "2019-10-09T16:15:04.333658Z",
     "start_time": "2019-10-09T16:15:04.279Z"
    }
   },
   "outputs": [
    {
     "data": {
      "text/html": [
       "<table>\n",
       "<thead><tr><th></th><th scope=col>1</th><th scope=col>2</th><th scope=col>3</th><th scope=col>4</th><th scope=col>5</th></tr></thead>\n",
       "<tbody>\n",
       "\t<tr><th scope=row>7</th><td>0.1948052</td><td>0.1991342</td><td>0.2121212</td><td>0.2251082</td><td>0.1688312</td></tr>\n",
       "</tbody>\n",
       "</table>\n"
      ],
      "text/latex": [
       "\\begin{tabular}{r|lllll}\n",
       "  & 1 & 2 & 3 & 4 & 5\\\\\n",
       "\\hline\n",
       "\t7 & 0.1948052 & 0.1991342 & 0.2121212 & 0.2251082 & 0.1688312\\\\\n",
       "\\end{tabular}\n"
      ],
      "text/markdown": [
       "\n",
       "| <!--/--> | 1 | 2 | 3 | 4 | 5 | \n",
       "|---|\n",
       "| 7 | 0.1948052 | 0.1991342 | 0.2121212 | 0.2251082 | 0.1688312 | \n",
       "\n",
       "\n"
      ],
      "text/plain": [
       "  1         2         3         4         5        \n",
       "7 0.1948052 0.1991342 0.2121212 0.2251082 0.1688312"
      ]
     },
     "metadata": {},
     "output_type": "display_data"
    },
    {
     "data": {
      "image/png": "[encoded data removed]",
      "text/plain": [
       "Plot with title \"Relative Frequencies of satisfaction on Sundays\""
      ]
     },
     "metadata": {},
     "output_type": "display_data"
    }
   ],
   "source": [
    "freqs[7,2:6]\n",
    "options(repr.plot.width=5, repr.plot.height=5)\n",
    "barplot(as.numeric(freqs[7,2:6]), xlab = \"Satisfaction Level\", ylab = \"Relative Frequency\", \n",
    "        main=\"Relative Frequencies of satisfaction on Sundays\",names.arg =x1)"
   ]
  },
  {
   "cell_type": "markdown",
   "metadata": {},
   "source": [
    "## 12. Days that the mean degree of satisfaction of women is greater than men"
   ]
  },
  {
   "cell_type": "code",
   "execution_count": 19,
   "metadata": {
    "ExecuteTime": {
     "end_time": "2019-10-09T16:02:44.653691Z",
     "start_time": "2019-10-09T16:02:44.584Z"
    }
   },
   "outputs": [
    {
     "name": "stdout",
     "output_type": "stream",
     "text": [
      "[1] \"Mean satisfaction for men\"\n"
     ]
    },
    {
     "data": {
      "text/html": [
       "<table>\n",
       "<thead><tr><th scope=col>Day</th><th scope=col>Mean_Satisfaction</th></tr></thead>\n",
       "<tbody>\n",
       "\t<tr><td>1       </td><td>3.029412</td></tr>\n",
       "\t<tr><td>2       </td><td>2.990566</td></tr>\n",
       "\t<tr><td>3       </td><td>3.140625</td></tr>\n",
       "\t<tr><td>4       </td><td>2.873684</td></tr>\n",
       "\t<tr><td>5       </td><td>3.394366</td></tr>\n",
       "\t<tr><td>6       </td><td>3.217391</td></tr>\n",
       "\t<tr><td>7       </td><td>2.978022</td></tr>\n",
       "</tbody>\n",
       "</table>\n"
      ],
      "text/latex": [
       "\\begin{tabular}{r|ll}\n",
       " Day & Mean\\_Satisfaction\\\\\n",
       "\\hline\n",
       "\t 1        & 3.029412\\\\\n",
       "\t 2        & 2.990566\\\\\n",
       "\t 3        & 3.140625\\\\\n",
       "\t 4        & 2.873684\\\\\n",
       "\t 5        & 3.394366\\\\\n",
       "\t 6        & 3.217391\\\\\n",
       "\t 7        & 2.978022\\\\\n",
       "\\end{tabular}\n"
      ],
      "text/markdown": [
       "\n",
       "Day | Mean_Satisfaction | \n",
       "|---|---|---|---|---|---|---|\n",
       "| 1        | 3.029412 | \n",
       "| 2        | 2.990566 | \n",
       "| 3        | 3.140625 | \n",
       "| 4        | 2.873684 | \n",
       "| 5        | 3.394366 | \n",
       "| 6        | 3.217391 | \n",
       "| 7        | 2.978022 | \n",
       "\n",
       "\n"
      ],
      "text/plain": [
       "  Day Mean_Satisfaction\n",
       "1 1   3.029412         \n",
       "2 2   2.990566         \n",
       "3 3   3.140625         \n",
       "4 4   2.873684         \n",
       "5 5   3.394366         \n",
       "6 6   3.217391         \n",
       "7 7   2.978022         "
      ]
     },
     "metadata": {},
     "output_type": "display_data"
    },
    {
     "name": "stdout",
     "output_type": "stream",
     "text": [
      "[1] \"Mean satisfaction for women\"\n"
     ]
    },
    {
     "data": {
      "text/html": [
       "<table>\n",
       "<thead><tr><th scope=col>Day</th><th scope=col>Mean_Satisfaction</th></tr></thead>\n",
       "<tbody>\n",
       "\t<tr><td>1       </td><td>3.235294</td></tr>\n",
       "\t<tr><td>2       </td><td>3.092199</td></tr>\n",
       "\t<tr><td>3       </td><td>3.107527</td></tr>\n",
       "\t<tr><td>4       </td><td>3.051613</td></tr>\n",
       "\t<tr><td>5       </td><td>2.863636</td></tr>\n",
       "\t<tr><td>6       </td><td>2.905797</td></tr>\n",
       "\t<tr><td>7       </td><td>2.971429</td></tr>\n",
       "</tbody>\n",
       "</table>\n"
      ],
      "text/latex": [
       "\\begin{tabular}{r|ll}\n",
       " Day & Mean\\_Satisfaction\\\\\n",
       "\\hline\n",
       "\t 1        & 3.235294\\\\\n",
       "\t 2        & 3.092199\\\\\n",
       "\t 3        & 3.107527\\\\\n",
       "\t 4        & 3.051613\\\\\n",
       "\t 5        & 2.863636\\\\\n",
       "\t 6        & 2.905797\\\\\n",
       "\t 7        & 2.971429\\\\\n",
       "\\end{tabular}\n"
      ],
      "text/markdown": [
       "\n",
       "Day | Mean_Satisfaction | \n",
       "|---|---|---|---|---|---|---|\n",
       "| 1        | 3.235294 | \n",
       "| 2        | 3.092199 | \n",
       "| 3        | 3.107527 | \n",
       "| 4        | 3.051613 | \n",
       "| 5        | 2.863636 | \n",
       "| 6        | 2.905797 | \n",
       "| 7        | 2.971429 | \n",
       "\n",
       "\n"
      ],
      "text/plain": [
       "  Day Mean_Satisfaction\n",
       "1 1   3.235294         \n",
       "2 2   3.092199         \n",
       "3 3   3.107527         \n",
       "4 4   3.051613         \n",
       "5 5   2.863636         \n",
       "6 6   2.905797         \n",
       "7 7   2.971429         "
      ]
     },
     "metadata": {},
     "output_type": "display_data"
    },
    {
     "name": "stdout",
     "output_type": "stream",
     "text": [
      "[1] \"Difference in satisfaction between men and women\"\n"
     ]
    },
    {
     "data": {
      "text/html": [
       "<ol class=list-inline>\n",
       "\t<li>0.205882352941177</li>\n",
       "\t<li>0.101632543824435</li>\n",
       "\t<li>-0.03309811827957</li>\n",
       "\t<li>0.177928692699491</li>\n",
       "\t<li>-0.530729833546735</li>\n",
       "\t<li>-0.311594202898551</li>\n",
       "\t<li>-0.00659340659340657</li>\n",
       "</ol>\n"
      ],
      "text/latex": [
       "\\begin{enumerate*}\n",
       "\\item 0.205882352941177\n",
       "\\item 0.101632543824435\n",
       "\\item -0.03309811827957\n",
       "\\item 0.177928692699491\n",
       "\\item -0.530729833546735\n",
       "\\item -0.311594202898551\n",
       "\\item -0.00659340659340657\n",
       "\\end{enumerate*}\n"
      ],
      "text/markdown": [
       "1. 0.205882352941177\n",
       "2. 0.101632543824435\n",
       "3. -0.03309811827957\n",
       "4. 0.177928692699491\n",
       "5. -0.530729833546735\n",
       "6. -0.311594202898551\n",
       "7. -0.00659340659340657\n",
       "\n",
       "\n"
      ],
      "text/plain": [
       "[1]  0.205882353  0.101632544 -0.033098118  0.177928693 -0.530729834\n",
       "[6] -0.311594203 -0.006593407"
      ]
     },
     "metadata": {},
     "output_type": "display_data"
    },
    {
     "name": "stdout",
     "output_type": "stream",
     "text": [
      "[1] \"Days that the mean degree of satisfaction of women is greater than men:\"\n",
      "[1] \"Monday\"\n",
      "[1] \"Tuesday\"\n",
      "[1] \"Thursday\"\n"
     ]
    }
   ],
   "source": [
    "print(\"Mean satisfaction for men\")\n",
    "d12_men = aggregate(x = as.numeric(men_frame$Ευχαρίστηση), list(men_frame$Ημέρα), mean)\n",
    "colnames(d12_men) = c(\"Day\",\"Mean_Satisfaction\")\n",
    "d12_men\n",
    "\n",
    "print(\"Mean satisfaction for women\")\n",
    "d12_women = aggregate(x = as.numeric(women_frame$Ευχαρίστηση), list(women_frame$Ημέρα), mean)\n",
    "colnames(d12_women) = c(\"Day\",\"Mean_Satisfaction\")\n",
    "d12_women\n",
    "\n",
    "print(\"Difference in satisfaction between men and women\")\n",
    "diff = d12_women$Mean_Satisfaction - d12_men$Mean_Satisfaction\n",
    "diff\n",
    "names = c(\"Monday\",\"Tuesday\",\"Wednesday\",\"Thursday\",\"Friday\",\"Saturday\",\"Sunday\")\n",
    "\n",
    "print(\"Days that the mean degree of satisfaction of women is greater than men:\")\n",
    "for(i in c(1,2,3,4,5,6,7)){\n",
    "    if(diff[i]>0){\n",
    "        print(names[i])\n",
    "    }\n",
    "}"
   ]
  },
  {
   "cell_type": "code",
   "execution_count": null,
   "metadata": {},
   "outputs": [],
   "source": []
  }
 ],
 "metadata": {
  "kernelspec": {
   "display_name": "R",
   "language": "R",
   "name": "ir"
  },
  "language_info": {
   "codemirror_mode": "r",
   "file_extension": ".r",
   "mimetype": "text/x-r-source",
   "name": "R",
   "pygments_lexer": "r",
   "version": "3.5.1"
  },
  "latex_envs": {
   "LaTeX_envs_menu_present": true,
   "autoclose": false,
   "autocomplete": true,
   "bibliofile": "biblio.bib",
   "cite_by": "apalike",
   "current_citInitial": 1,
   "eqLabelWithNumbers": true,
   "eqNumInitial": 1,
   "hotkeys": {
    "equation": "Ctrl-E",
    "itemize": "Ctrl-I"
   },
   "labels_anchors": false,
   "latex_user_defs": false,
   "report_style_numbering": false,
   "user_envs_cfg": false
  },
  "toc": {
   "base_numbering": 1,
   "nav_menu": {},
   "number_sections": false,
   "sideBar": true,
   "skip_h1_title": false,
   "title_cell": "Table of Contents",
   "title_sidebar": "Contents",
   "toc_cell": false,
   "toc_position": {
    "height": "calc(100% - 180px)",
    "left": "10px",
    "top": "150px",
    "width": "165px"
   },
   "toc_section_display": true,
   "toc_window_display": true
  },
  "varInspector": {
   "cols": {
    "lenName": 16,
    "lenType": 16,
    "lenVar": 40
   },
   "kernels_config": {
    "python": {
     "delete_cmd_postfix": "",
     "delete_cmd_prefix": "del ",
     "library": "var_list.py",
     "varRefreshCmd": "print(var_dic_list())"
    },
    "r": {
     "delete_cmd_postfix": ") ",
     "delete_cmd_prefix": "rm(",
     "library": "var_list.r",
     "varRefreshCmd": "cat(var_dic_list()) "
    }
   },
   "types_to_exclude": [
    "module",
    "function",
    "builtin_function_or_method",
    "instance",
    "_Feature"
   ],
   "window_display": false
  }
 },
 "nbformat": 4,
 "nbformat_minor": 2
}
