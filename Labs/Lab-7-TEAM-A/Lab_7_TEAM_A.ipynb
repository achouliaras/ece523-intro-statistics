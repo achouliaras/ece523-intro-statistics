{
 "cells": [
  {
   "cell_type": "markdown",
   "metadata": {
    "ExecuteTime": {
     "end_time": "2019-12-05T17:48:53.276737Z",
     "start_time": "2019-12-05T17:48:53.263Z"
    }
   },
   "source": [
    "<center>\n",
    "    <b><font size=\"6\",color='#00759c'>Lab 7 - Hypothesis testing - Type I Error</font></b>\n",
    " </center>\n",
    "    \n",
    "  <h2><center>\n",
    "    Chouliaras Andreas 2143 achouliaras@inf.uth.gr <br>\n",
    "    Giannoukos Triantafyllos-Anargyros 2232 tgiannoukos@inf.uth.gr <br>\n",
    "    Matzoros Christos-Konstantinos 2169 cmatzoros@inf.uth.gr <br>\n",
    " </center></h2>"
   ]
  },
  {
   "cell_type": "markdown",
   "metadata": {},
   "source": [
    "<font size=\"3\">Researchers retain or reject hypothesis based on measurements of observed samples. The decision is often based on a statistical mechanism called hypothesis testing. A type I error is the mishap of falsely rejecting a null hypothesis when the null hypothesis is true. The probability of committing a type I error is called the significance level of the hypothesis testing, and is denoted by the Greek letter α. <br><br>The following exercises concern hypothesis testing in R with possible type I error.</font>"
   ]
  },
  {
   "cell_type": "markdown",
   "metadata": {},
   "source": [
    "<left>\n",
    "    <b><font size=\"5\",color='#00759c'>Exercise 1: Lower Tail Test of Population Mean with Known Variance</font></b>\n",
    "</left>\n",
    " \n",
    "<font size=\"3\">The null hypothesis of the lower tail test of the population mean can be expressed as follows:</font>\n",
    "\n",
    "$$\n",
    "\\mu \\geq \\mu_0\n",
    "$$\n",
    "\n",
    "<font size=\"3\"><br>\n",
    "where μ<sub>0</sub> is a hypothesized lower bound of the true population mean μ.\n",
    "<br><br>\n",
    "Let us define the test statistic z in terms of the sample mean, the sample size and the population standard deviation σ :</font>\n",
    "\n",
    "$$\n",
    "z = \\frac{\\bar{x}-\\mu_0}{\\sigma / \\sqrt{n}}\n",
    "$$\n",
    "\n",
    "<font size=\"3\">Then the null hypothesis of the lower tail test is to be rejected if z ≤−z<sub>α</sub>, where z<sub>α</sub> is the 100(1 − α) percentile of the standard normal distribution is the critical value and can be computed by the\n",
    "R function qnorm(1-alpha).</font>\n",
    "\n",
    "<br>\n",
    "<left>\n",
    "<b><font size=\"4\",color='#00759c'>Problem</font></b>\n",
    "</left>\n",
    "\n",
    "<br>\n",
    "<font size=\"3\">Suppose the manufacturer claims that the mean lifetime of a light bulb is more than 10,000 hours. In a sample of 30 light bulbs, it was found that they only last 9,900 hours on average. Assume the population standard deviation is 120 hours. At .05 significance level, can we reject the claim by the manufacturer?</font>"
   ]
  },
  {
   "cell_type": "code",
   "execution_count": 12,
   "metadata": {
    "ExecuteTime": {
     "end_time": "2019-12-05T20:08:50.791319Z",
     "start_time": "2019-12-05T20:08:50.740Z"
    }
   },
   "outputs": [
    {
     "name": "stdout",
     "output_type": "stream",
     "text": [
      "za = -1.644854\n",
      "z  = -4.564355\n",
      "The hypothesis of the lower tail test is rejected.\n"
     ]
    }
   ],
   "source": [
    "mean_zero = 10000 \n",
    "n = 30\n",
    "x_bar = 9900\n",
    "\n",
    "std_population = 120\n",
    "alpha = 0.05\n",
    "\n",
    "za = qnorm(alpha)\n",
    "cat(\"za =\",za)\n",
    "\n",
    "z = (x_bar - mean_zero)/(std_population/sqrt(n))\n",
    "cat(\"\\nz  =\",z)\n",
    "\n",
    "if(z<=-za){\n",
    "    cat(\"\\nThe hypothesis of the lower tail test is rejected.\\n\")\n",
    "}else{\n",
    "    cat(\"\\nWe have no significant evidence to reject the null hypothesis.\\n\")\n",
    "}"
   ]
  },
  {
   "cell_type": "markdown",
   "metadata": {},
   "source": [
    "<left>\n",
    "    <b><font size=\"5\",color='#00759c'>Exercise 2: Upper Tail Test of Population Mean with Known Variance</font></b>\n",
    "</left>\n",
    " \n",
    "<font size=\"3\">The null hypothesis of the upper tail test of the population mean can be expressed as follows:</font>\n",
    "\n",
    "$$\n",
    "\\mu \\leq \\mu_0\n",
    "$$\n",
    "\n",
    "<font size=\"3\"><br>\n",
    "where μ<sub>0</sub> is a hypothesized upper bound of the true population mean μ.\n",
    "<br><br>\n",
    "Let us define the test statistic z in terms of the sample mean, the sample size and the population standard deviation σ :</font>\n",
    "\n",
    "$$\n",
    "z = \\frac{\\bar{x}-\\mu_0}{\\sigma / \\sqrt{n}}\n",
    "$$\n",
    "\n",
    "<font size=\"3\">Then the null hypothesis of the upper tail test is to be rejected if z ≥ z<sub>α</sub> , where z<sub>α</sub> is the 100(1 − α) percentile of the standard normal distribution.</font>\n",
    "\n",
    "<br>\n",
    "<left>\n",
    "<b><font size=\"4\",color='#00759c'>Problem</font></b>\n",
    "</left>\n",
    "\n",
    "<br>\n",
    "<font size=\"3\">Suppose the food label on a cookie bag states that there is at most 2 grams of saturated fat in a single cookie. In a sample of 35 cookies, it is found that the mean amount of saturated fat per cookie is 2.1 grams. Assume that the population standard deviation is 0.25 grams. At .05 significance level, can we reject the claim on food label?</font>"
   ]
  },
  {
   "cell_type": "code",
   "execution_count": 13,
   "metadata": {
    "ExecuteTime": {
     "end_time": "2019-12-05T20:09:07.772573Z",
     "start_time": "2019-12-05T20:09:07.720Z"
    }
   },
   "outputs": [
    {
     "name": "stdout",
     "output_type": "stream",
     "text": [
      "za = 1.644854\n",
      "z  = 2.366432\n",
      "The hypothesis of the upper tail test is rejected.\n"
     ]
    }
   ],
   "source": [
    "mean_zero = 2 \n",
    "n = 35\n",
    "x_bar = 2.1\n",
    "\n",
    "std_population = 0.25\n",
    "alpha = 0.05\n",
    "\n",
    "za = qnorm(1-alpha)\n",
    "cat(\"za =\",za)\n",
    "\n",
    "z = (x_bar - mean_zero)/(std_population/sqrt(n))\n",
    "cat(\"\\nz  =\",z)\n",
    "\n",
    "if(z>=za){\n",
    "    cat(\"\\nThe hypothesis of the upper tail test is rejected.\\n\")\n",
    "}else{\n",
    "    cat(\"\\nWe have no significant evidence to reject the null hypothesis.\\n\")\n",
    "}"
   ]
  },
  {
   "cell_type": "markdown",
   "metadata": {},
   "source": [
    "<left>\n",
    "    <b><font size=\"5\",color='#00759c'>Exercise 3: Two-Tailed Test of Population Mean with Known Variance</font></b>\n",
    "</left>\n",
    " \n",
    "<font size=\"3\">The null hypothesis of the two-tailed test of the population mean can be expressed as follows:</font>\n",
    "\n",
    "$$\n",
    "\\mu = \\mu_0\n",
    "$$\n",
    "\n",
    "<font size=\"3\"><br>\n",
    "where μ<sub>0</sub> is a hypothesized value of the true population mean μ.\n",
    "<br><br>\n",
    "Let us define the test statistic z in terms of the sample mean, the sample size and the population standard deviation σ :</font>\n",
    "\n",
    "$$\n",
    "z = \\frac{\\bar{x}-\\mu_0}{\\sigma / \\sqrt{n}}\n",
    "$$\n",
    "\n",
    "<font size=\"3\">Then the null hypothesis of the two-tailed test is to be rejected if z ≤ −z<sub>α∕2</sub> or z ≥ z<sub>α∕2</sub>, where z<sub>α∕2</sub> is the 100(1 − α∕2) percentile of the standard normal distribution.</font>\n",
    "\n",
    "<br>\n",
    "<left>\n",
    "<b><font size=\"4\",color='#00759c'>Problem</font></b>\n",
    "</left>\n",
    "\n",
    "<br>\n",
    "<font size=\"3\">Suppose the mean weight of King Penguins found in an Antarctic colony last year was 15.4 kg. \n",
    "<br>\n",
    "In a sample of 35 penguins same time this year in the same colony, the mean penguin weight is 14.6 kg. Assume the population standard deviation is 2.5 kg. At .05 significance level, can we reject the null hypothesis that the mean penguin weight does not differ from last year?</font>"
   ]
  },
  {
   "cell_type": "code",
   "execution_count": 2,
   "metadata": {
    "ExecuteTime": {
     "end_time": "2019-12-09T13:15:51.337199Z",
     "start_time": "2019-12-09T13:15:51.306Z"
    }
   },
   "outputs": [
    {
     "name": "stdout",
     "output_type": "stream",
     "text": [
      "za/2 = -1.959964\n",
      "z    = -1.893146\n",
      "We have no significant evidence to reject the null hypothesis.\n"
     ]
    }
   ],
   "source": [
    "mean_zero = 15.4\n",
    "n = 35\n",
    "x_bar = 14.6\n",
    "\n",
    "std_population = 2.5\n",
    "alpha = 0.05\n",
    "\n",
    "za2 = qnorm(1-(alpha/2))\n",
    "cat(\"za/2 =\",-za2)\n",
    " \n",
    "\n",
    "z = (x_bar - mean_zero)/(std_population/sqrt(n))\n",
    "cat(\"\\nz    =\",z)\n",
    "\n",
    "if(z<=-za2 || z>=za2){\n",
    "    cat(\"\\nThe hypothesis of the two-tailed test is rejected.\\n\")\n",
    "}else{\n",
    "    cat(\"\\nWe have no significant evidence to reject the null hypothesis.\\n\")\n",
    "}"
   ]
  },
  {
   "cell_type": "markdown",
   "metadata": {},
   "source": [
    "<font size=\"3\">For the computation of critical value we use the qnorm(1−alpha/2). Why?</font>"
   ]
  },
  {
   "cell_type": "markdown",
   "metadata": {
    "ExecuteTime": {
     "end_time": "2019-12-05T20:18:53.741550Z",
     "start_time": "2019-12-05T20:18:53.715Z"
    }
   },
   "source": [
    "<img src=\"images/Standard Normal Distribution both tails.png\" height=\"50%\" width=\"50%\">"
   ]
  },
  {
   "cell_type": "markdown",
   "metadata": {},
   "source": [
    "### Because there are two critical values and one confidence level, we need to divide the alpha in half, in order to use each half for each tail."
   ]
  },
  {
   "cell_type": "markdown",
   "metadata": {},
   "source": [
    "<left>\n",
    "    <b><font size=\"5\",color='#00759c'>Exercise 4: Lower Tail Test of Population Mean with Unknown Variance</font></b>\n",
    "</left>\n",
    " \n",
    "<font size=\"3\">The null hypothesis of the lower tail test of the population mean can be expressed as follows:</font>\n",
    "\n",
    "$$\n",
    "\\mu \\geq \\mu_0\n",
    "$$\n",
    "\n",
    "<font size=\"3\"><br>\n",
    "where μ<sub>0</sub> is a hypothesized lower bound of the true population mean μ.\n",
    "<br><br>\n",
    "Let us define the test statistic t in terms of the sample mean, the sample size and the sample standard deviation s :</font>\n",
    "\n",
    "$$\n",
    "t = \\frac{\\bar{x}-\\mu_0}{s / \\sqrt{n}}\n",
    "$$\n",
    "\n",
    "<font size=\"3\">Then the null hypothesis of the lower tail test is to be rejected if t ≤−t<sub>α</sub>, where t<sub>α</sub> is the 100(1 − α) percentile of the Student t distribution with n − 1 degrees of freedom. Use the R function qt.</font>\n",
    "\n",
    "<br>\n",
    "<left>\n",
    "<b><font size=\"4\",color='#00759c'>Problem</font></b>\n",
    "</left>\n",
    "\n",
    "<br>\n",
    "<font size=\"3\">Suppose the manufacturer claims that the mean lifetime of a light bulb is more than 10,000 hours. In a sample of 30 light bulbs, it was found that they only last 9,900 hours on average. Assume the sample standard deviation is 125 hours. At .05 significance level, can we reject the claim by the manufacturer?</font>"
   ]
  },
  {
   "cell_type": "code",
   "execution_count": 5,
   "metadata": {
    "ExecuteTime": {
     "end_time": "2019-12-05T20:06:35.032306Z",
     "start_time": "2019-12-05T20:06:34.990Z"
    }
   },
   "outputs": [
    {
     "name": "stdout",
     "output_type": "stream",
     "text": [
      "ta = -1.699127\n",
      "t  = -4.38178\n",
      "The hypothesis of the lower tail test is rejected.\n"
     ]
    }
   ],
   "source": [
    "mean_zero = 10000 \n",
    "n = 30\n",
    "x_bar = 9900\n",
    "\n",
    "std_sample = 125\n",
    "alpha = 0.05\n",
    "\n",
    "ta = qt(alpha,n-1)\n",
    "cat(\"ta =\",ta)\n",
    "\n",
    "t = (x_bar - mean_zero)/(std_sample/sqrt(n))\n",
    "cat(\"\\nt  =\",t)\n",
    "\n",
    "if(t<=ta){\n",
    "    cat(\"\\nThe hypothesis of the lower tail test is rejected.\\n\")\n",
    "}else{\n",
    "    cat(\"\\nWe have no significant evidence to reject the null hypothesis.\\n\")\n",
    "}\n",
    "\n"
   ]
  },
  {
   "cell_type": "markdown",
   "metadata": {},
   "source": [
    "<left>\n",
    "    <b><font size=\"5\",color='#00759c'>Exercise 5: Upper Tail Test of Population Mean with Unknown Variance</font></b>\n",
    "</left>\n",
    "\n",
    "<font size=\"3\">The null hypothesis of the upper tail test of the population mean can be expressed as follows:</font>\n",
    "\n",
    "$$\n",
    "\\mu \\leq \\mu_0\n",
    "$$\n",
    "\n",
    "<font size=\"3\"><br>\n",
    "where μ<sub>0</sub> is a hypothesized upper bound of the true population mean μ.\n",
    "<br><br>\n",
    "Let us define the test statistic t in terms of the sample mean, the sample size and the sample standard deviation s :</font>\n",
    "\n",
    "$$\n",
    "t = \\frac{\\bar{x}-\\mu_0}{s / \\sqrt{n}}\n",
    "$$\n",
    "\n",
    "<font size=\"3\">Then the null hypothesis of the upper tail test is to be rejected if t ≥ t<sub>α</sub>, where t<sub>α</sub> is the 100(1 − α) percentile of the Student t distribution with n − 1 degrees of freedom.</font>\n",
    "\n",
    "<br>\n",
    "<left>\n",
    "<b><font size=\"4\",color='#00759c'>Problem</font></b>\n",
    "</left>\n",
    "\n",
    "<br>\n",
    "<font size=\"3\">Suppose the food label on a cookie bag states that there is at most 2 grams of saturated fat in a single cookie. In a sample of 35 cookies, it is found that the mean amount of saturated fat per cookie is 2.1 grams. Assume that the sample standard deviation is 0.3 gram. At .05 significance level, can we reject the claim on food label?</font>"
   ]
  },
  {
   "cell_type": "code",
   "execution_count": 6,
   "metadata": {
    "ExecuteTime": {
     "end_time": "2019-12-05T20:06:41.630803Z",
     "start_time": "2019-12-05T20:06:41.580Z"
    }
   },
   "outputs": [
    {
     "name": "stdout",
     "output_type": "stream",
     "text": [
      "ta = 1.690924\n",
      "t  = 1.972027\n",
      "The hypothesis of the upper tail test is rejected.\n"
     ]
    }
   ],
   "source": [
    "mean_zero = 2\n",
    "n = 35\n",
    "x_bar = 2.1\n",
    "\n",
    "std_sample = 0.3\n",
    "alpha = 0.05\n",
    "\n",
    "ta = qt(1-alpha,n-1)\n",
    "cat(\"ta =\",ta)\n",
    "\n",
    "t = (x_bar - mean_zero)/(std_sample/sqrt(n))\n",
    "cat(\"\\nt  =\",t)\n",
    "\n",
    "if(t>=ta){\n",
    "    cat(\"\\nThe hypothesis of the upper tail test is rejected.\\n\")\n",
    "}else{\n",
    "    cat(\"\\nWe have no significant evidence to reject the null hypothesis.\\n\")\n",
    "}"
   ]
  },
  {
   "cell_type": "markdown",
   "metadata": {},
   "source": [
    "<left>\n",
    "    <b><font size=\"5\",color='#00759c'>Exercise 6: Two-Tailed Test of Population Mean with Unknown Variance</font></b>\n",
    "</left>\n",
    "\n",
    "<font size=\"3\">The null hypothesis of the two-tailed test of the population mean can be expressed as follows:</font>\n",
    "\n",
    "$$\n",
    "\\mu = \\mu_0\n",
    "$$\n",
    "\n",
    "<font size=\"3\"><br>\n",
    "where μ<sub>0</sub> is a hypothesized value of the true population mean μ.\n",
    "<br><br>\n",
    "Let us define the test statistic t in terms of the sample mean, the sample size and the sample standard deviation s :</font>\n",
    "\n",
    "$$\n",
    "t = \\frac{\\bar{x}-\\mu_0}{s / \\sqrt{n}}\n",
    "$$\n",
    "\n",
    "<font size=\"3\">Then the null hypothesis of the two-tailed test is to be rejected if t ≤ −t<sub>α∕2</sub> or t ≥ t<sub>α∕2</sub> , where t<sub>α∕2</sub> is the 100(1 − α) percentile of the Student t distribution with n − 1 degrees of freedom.</font>\n",
    "\n",
    "<br>\n",
    "<left>\n",
    "<b><font size=\"4\",color='#00759c'>Problem</font></b>\n",
    "</left>\n",
    "\n",
    "<br>\n",
    "<font size=\"3\">Suppose the mean weight of King Penguins found in an Antarctic colony last year was 15.4 kg. In a sample of 35 penguins same time this year in the same colony, the mean penguin weight is 14.6 kg. Assume the sample standard deviation is 2.5 kg. At .05 significance level, can we reject the null hypothesis that the mean penguin weight does not differ from last year?</font>"
   ]
  },
  {
   "cell_type": "code",
   "execution_count": 18,
   "metadata": {
    "ExecuteTime": {
     "end_time": "2019-12-05T20:27:00.558911Z",
     "start_time": "2019-12-05T20:27:00.525Z"
    }
   },
   "outputs": [
    {
     "name": "stdout",
     "output_type": "stream",
     "text": [
      "ta = -2.032245\n",
      "t  = -1.893146\n",
      "We have no significant evidence to reject the null hypothesis.\n"
     ]
    }
   ],
   "source": [
    "mean_zero = 15.4\n",
    "n = 35\n",
    "x_bar = 14.6\n",
    "\n",
    "std_sample = 2.5\n",
    "alpha = 0.05\n",
    "\n",
    "ta2 = qt(1-(alpha/2),n-1)\n",
    "cat(\"ta =\",-ta2)\n",
    "\n",
    "t = (x_bar - mean_zero)/(std_sample/sqrt(n))\n",
    "cat(\"\\nt  =\",t)\n",
    "\n",
    "if(t<=-ta2 || t>=ta2){\n",
    "    cat(\"\\nThe hypothesis of the two-tailed tail test is rejected.\\n\")\n",
    "}else{\n",
    "    cat(\"\\nWe have no significant evidence to reject the null hypothesis.\\n\")\n",
    "}"
   ]
  },
  {
   "cell_type": "markdown",
   "metadata": {},
   "source": [
    "<left>\n",
    "    <b><font size=\"5\",color='#00759c'>Exercise 7: Lower Tail Test of Population Proportion</font></b>\n",
    "</left>\n",
    " \n",
    "<font size=\"3\">The null hypothesis of the lower tail test about population proportion can be expressed as follows:</font>\n",
    "\n",
    "$$\n",
    "p \\geq p_0\n",
    "$$\n",
    "\n",
    "<font size=\"3\"><br>\n",
    "where p<sub>0</sub> is a hypothesized lower bound of the true population proportion p.\n",
    "<br><br>\n",
    "Let us define the test statistic z in terms of the sample proportion and the sample size:</font>\n",
    "\n",
    "$$\n",
    "z = \\frac{\\bar{p}-p_0}{\\sqrt{p_0(1-p_0)/n}}\n",
    "$$\n",
    "\n",
    "<font size=\"3\">Then the null hypothesis of the lower tail test is to be rejected if z ≤−z<sub>α</sub>, where z<sub>α</sub> is the 100(1 − α) percentile of the standard normal distribution.</font>\n",
    "\n",
    "<br>\n",
    "<left>\n",
    "<b><font size=\"4\",color='#00759c'>Problem</font></b>\n",
    "</left>\n",
    "\n",
    "<br>\n",
    "<font size=\"3\">Suppose 60% of citizens voted in last election. 85 out of 148 people in a telephone survey said that they voted in current election. At 0.5 significance level, can we reject the null hypothesis that the proportion of voters in the population is above 60% this year?</font>"
   ]
  },
  {
   "cell_type": "code",
   "execution_count": 9,
   "metadata": {
    "ExecuteTime": {
     "end_time": "2019-12-05T20:07:24.227959Z",
     "start_time": "2019-12-05T20:07:24.182Z"
    }
   },
   "outputs": [
    {
     "name": "stdout",
     "output_type": "stream",
     "text": [
      "za = -1.644854\n",
      "z  = -0.6375983\n",
      "We have no significant evidence to reject the null hypothesis.\n"
     ]
    }
   ],
   "source": [
    "prop_zero = 0.6 \n",
    "n = 148\n",
    "prop_bar = 85/148\n",
    "alpha = 0.05\n",
    "\n",
    "za = qnorm(alpha)\n",
    "cat(\"za =\",za)\n",
    "\n",
    "z = (prop_bar - prop_zero)/( sqrt(prop_zero*(1-prop_zero)/n))\n",
    "cat(\"\\nz  =\",z)\n",
    "\n",
    "if(z<=za){\n",
    "    cat(\"\\nThe hypothesis of the lower tail test is rejected.\\n\")\n",
    "}else{\n",
    "    cat(\"\\nWe have no significant evidence to reject the null hypothesis.\\n\")\n",
    "}"
   ]
  },
  {
   "cell_type": "markdown",
   "metadata": {},
   "source": [
    "<left>\n",
    "    <b><font size=\"5\",color='#00759c'>Exercise 8: Upper Tail Test of Population Proportion</font></b>\n",
    "</left>\n",
    "\n",
    "<font size=\"3\">The null hypothesis of the upper tail test about population proportion can be expressed as follows:</font>\n",
    "\n",
    "$$\n",
    "p \\leq p_0\n",
    "$$\n",
    "\n",
    "<font size=\"3\"><br>\n",
    "where p<sub>0</sub> is a hypothesized upper bound of the true population proportion p.\n",
    "<br><br>\n",
    "Let us define the test statistic z in terms of the sample proportion and the sample size:</font>\n",
    "\n",
    "$$\n",
    "z = \\frac{\\bar{p}-p_0}{\\sqrt{p_0(1-p_0)/n}}\n",
    "$$\n",
    "\n",
    "<font size=\"3\">Then the null hypothesis of the upper tail test is to be rejected if z ≥ z<sub>α</sub>, where z<sub>α</sub> is the 100(1 − α) percentile of the standard normal distribution.</font>\n",
    "\n",
    "<br>\n",
    "<left>\n",
    "<b><font size=\"4\",color='#00759c'>Problem</font></b>\n",
    "</left>\n",
    "\n",
    "<br>\n",
    "<font size=\"3\">Suppose that 12% of apples harvested in an orchard last year was rotten. 30 out of 214 apples in a harvest sample this year turns out to be rotten. At .05 significance level, can we reject the null hypothesis that the proportion of rotten apples in harvest stays below 12% this year?</font>"
   ]
  },
  {
   "cell_type": "code",
   "execution_count": 10,
   "metadata": {
    "ExecuteTime": {
     "end_time": "2019-12-05T20:07:32.196507Z",
     "start_time": "2019-12-05T20:07:32.167Z"
    }
   },
   "outputs": [
    {
     "name": "stdout",
     "output_type": "stream",
     "text": [
      "za = 1.644854\n",
      "z  = 0.908751\n",
      "We have no significant evidence to reject the null hypothesis.\n"
     ]
    }
   ],
   "source": [
    "prop_zero = 0.12 \n",
    "n = 214\n",
    "prop_bar = 30/214\n",
    "alpha = 0.05\n",
    "\n",
    "\n",
    "za = qnorm(1-alpha)\n",
    "cat(\"za =\",za)\n",
    "\n",
    "z = (prop_bar - prop_zero)/( sqrt(prop_zero*(1-prop_zero)/n))\n",
    "cat(\"\\nz  =\",z)\n",
    "\n",
    "if(z>=za){\n",
    "    cat(\"\\nThe hypothesis of the upper tail test is rejected.\\n\")\n",
    "}else{\n",
    "    cat(\"\\nWe have no significant evidence to reject the null hypothesis.\\n\")\n",
    "}"
   ]
  },
  {
   "cell_type": "markdown",
   "metadata": {},
   "source": [
    "<left>\n",
    "    <b><font size=\"5\",color='#00759c'>Exercise 9: Two-Tailed Test of Population Proportion</font></b>\n",
    "</left>\n",
    "\n",
    "<font size=\"3\">The null hypothesis of the two-tailed test about population proportion can be expressed as follows:</font>\n",
    "\n",
    "$$\n",
    "p = p_0\n",
    "$$\n",
    "\n",
    "<font size=\"3\"><br>\n",
    "where p<sub>0</sub> is a hypothesized value of the true population proportion p.\n",
    "<br><br>\n",
    "Let us define the test statistic z in terms of the sample proportion and the sample size:</font>\n",
    "\n",
    "$$\n",
    "z = \\frac{\\bar{p}-p_0}{\\sqrt{p_0(1-p_0)/n}}\n",
    "$$\n",
    "\n",
    "<font size=\"3\">Then the null hypothesis of the two-tailed test is to be rejected if z ≤ −z<sub>α∕2</sub> or z ≥ z<sub>α∕2</sub>, where z<sub>α∕2</sub> is the 100(1 − α) percentile of the standard normal distribution.</font>\n",
    "\n",
    "<br>\n",
    "<left>\n",
    "<b><font size=\"4\",color='#00759c'>Problem</font></b>\n",
    "</left>\n",
    "\n",
    "<br>\n",
    "<font size=\"3\">Suppose a coin toss turns up 12 heads out of 20 trials. At .05 significance level, can one reject the null hypothesis that the coin toss is fair?</font>"
   ]
  },
  {
   "cell_type": "code",
   "execution_count": 11,
   "metadata": {
    "ExecuteTime": {
     "end_time": "2019-12-05T20:07:39.124997Z",
     "start_time": "2019-12-05T20:07:39.096Z"
    }
   },
   "outputs": [
    {
     "name": "stdout",
     "output_type": "stream",
     "text": [
      "za/2 = 1.959964\n",
      "z    = 0.8944272\n",
      "We have no significant evidence to reject the null hypothesis.\n"
     ]
    }
   ],
   "source": [
    "prop_zero = 0.5 \n",
    "n = 20\n",
    "prop_bar = 12/20\n",
    "alpha = 0.05\n",
    "\n",
    "\n",
    "za2 = qnorm(1-(alpha/2))\n",
    "cat(\"za/2 =\",za2)\n",
    "\n",
    "\n",
    "z = (prop_bar - prop_zero)/( sqrt(prop_zero*(1-prop_zero)/n))\n",
    "cat(\"\\nz    =\",z)\n",
    "\n",
    "if(z<=-za2 || z>=za2){\n",
    "    cat(\"\\nThe hypothesis of the two-tailed test is rejected.\\n\")\n",
    "}else{\n",
    "    cat(\"\\nWe have no significant evidence to reject the null hypothesis.\\n\")\n",
    "}"
   ]
  }
 ],
 "metadata": {
  "kernelspec": {
   "display_name": "R",
   "language": "R",
   "name": "ir"
  },
  "language_info": {
   "codemirror_mode": "r",
   "file_extension": ".r",
   "mimetype": "text/x-r-source",
   "name": "R",
   "pygments_lexer": "r",
   "version": "3.5.1"
  },
  "latex_envs": {
   "LaTeX_envs_menu_present": true,
   "autoclose": false,
   "autocomplete": true,
   "bibliofile": "biblio.bib",
   "cite_by": "apalike",
   "current_citInitial": 1,
   "eqLabelWithNumbers": true,
   "eqNumInitial": 1,
   "hotkeys": {
    "equation": "Ctrl-E",
    "itemize": "Ctrl-I"
   },
   "labels_anchors": false,
   "latex_user_defs": false,
   "report_style_numbering": false,
   "user_envs_cfg": false
  },
  "toc": {
   "base_numbering": 1,
   "nav_menu": {},
   "number_sections": false,
   "sideBar": true,
   "skip_h1_title": false,
   "title_cell": "Table of Contents",
   "title_sidebar": "Contents",
   "toc_cell": false,
   "toc_position": {},
   "toc_section_display": true,
   "toc_window_display": false
  },
  "varInspector": {
   "cols": {
    "lenName": 16,
    "lenType": 16,
    "lenVar": 40
   },
   "kernels_config": {
    "python": {
     "delete_cmd_postfix": "",
     "delete_cmd_prefix": "del ",
     "library": "var_list.py",
     "varRefreshCmd": "print(var_dic_list())"
    },
    "r": {
     "delete_cmd_postfix": ") ",
     "delete_cmd_prefix": "rm(",
     "library": "var_list.r",
     "varRefreshCmd": "cat(var_dic_list()) "
    }
   },
   "types_to_exclude": [
    "module",
    "function",
    "builtin_function_or_method",
    "instance",
    "_Feature"
   ],
   "window_display": false
  }
 },
 "nbformat": 4,
 "nbformat_minor": 2
}
